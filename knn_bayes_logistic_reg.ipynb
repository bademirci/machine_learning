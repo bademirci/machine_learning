{
  "nbformat": 4,
  "nbformat_minor": 0,
  "metadata": {
    "colab": {
      "name": "knn_bayes_logistic_reg.ipynb",
      "provenance": [],
      "collapsed_sections": [],
      "include_colab_link": true
    },
    "kernelspec": {
      "name": "python3",
      "display_name": "Python 3"
    },
    "language_info": {
      "name": "python"
    }
  },
  "cells": [
    {
      "cell_type": "markdown",
      "metadata": {
        "id": "view-in-github",
        "colab_type": "text"
      },
      "source": [
        "<a href=\"https://colab.research.google.com/github/bademirci/machine_learning/blob/main/knn_bayes_logistic_reg.ipynb\" target=\"_parent\"><img src=\"https://colab.research.google.com/assets/colab-badge.svg\" alt=\"Open In Colab\"/></a>"
      ]
    },
    {
      "cell_type": "markdown",
      "source": [
        "## BATUHAN DEMİRCİ"
      ],
      "metadata": {
        "id": "S7TTM4Feylj8"
      }
    },
    {
      "cell_type": "markdown",
      "source": [
        "##KNN-Naive Bayes- Logistic Regression"
      ],
      "metadata": {
        "id": "vo0zYyGdOWHk"
      }
    },
    {
      "cell_type": "code",
      "execution_count": null,
      "metadata": {
        "id": "cDNY_4ohTjTV"
      },
      "outputs": [],
      "source": [
        "import pandas as pd\n",
        "import numpy as np\n",
        "from sklearn.neighbors import KNeighborsClassifier\n",
        "from sklearn.model_selection import train_test_split\n",
        "from sklearn.naive_bayes import GaussianNB\n",
        "from sklearn.linear_model import LogisticRegression\n",
        "import matplotlib.pyplot as plt"
      ]
    },
    {
      "cell_type": "markdown",
      "source": [
        "### \"Telco.csv\" Imported to the notebook and custopmerID column dropped from the dataframe."
      ],
      "metadata": {
        "id": "LGverv8EzfFg"
      }
    },
    {
      "cell_type": "code",
      "source": [
        "df = pd.read_csv(\"Telco.csv\")\n",
        "df.drop(columns=\"customerID\",inplace=True)\n"
      ],
      "metadata": {
        "id": "Eg2MECv1UNQ-"
      },
      "execution_count": null,
      "outputs": []
    },
    {
      "cell_type": "markdown",
      "source": [
        "###Categorical data to numeric values with using pandas.det_dummies."
      ],
      "metadata": {
        "id": "SCeTEGrvz7Z-"
      }
    },
    {
      "cell_type": "code",
      "source": [
        "df = pd.get_dummies(df, columns=[\"gender\", \"Partner\", \"Dependents\", \"PhoneService\", \"MultipleLines\",\n",
        "                                 \"InternetService\", \"OnlineSecurity\", \"OnlineBackup\", \n",
        "                                 \"DeviceProtection\", \"TechSupport\", \"StreamingTV\", \n",
        "                                 \"StreamingMovies\", \"Contract\", \"PaperlessBilling\", \n",
        "                                 \"PaymentMethod\", \"Churn\"], drop_first=True)\n",
        "df = df[~df.TotalCharges.str.contains(\" \")]\n",
        "df['TotalCharges'] = df['TotalCharges'].astype(float, errors = 'raise')\n",
        "\n"
      ],
      "metadata": {
        "id": "Aa2nDsFQUYhw"
      },
      "execution_count": null,
      "outputs": []
    },
    {
      "cell_type": "markdown",
      "source": [
        "### Determining X(inputs) and Y(outputs) values."
      ],
      "metadata": {
        "id": "2VEEQOvH0Kjd"
      }
    },
    {
      "cell_type": "code",
      "source": [
        "X = df.drop(columns=['Churn_Yes'])\n",
        "y = df[\"Churn_Yes\"].values"
      ],
      "metadata": {
        "id": "ci1oM58fVbzB"
      },
      "execution_count": null,
      "outputs": []
    },
    {
      "cell_type": "markdown",
      "source": [
        "###Splitting data as Train and Test data."
      ],
      "metadata": {
        "id": "AYw6zw2c0YVG"
      }
    },
    {
      "cell_type": "code",
      "source": [
        "X_train, X_test, y_train, y_test = train_test_split(X, y, test_size=0.2, random_state=1)"
      ],
      "metadata": {
        "id": "GtrQwoNCVc9X"
      },
      "execution_count": null,
      "outputs": []
    },
    {
      "cell_type": "markdown",
      "source": [
        "###Logistic Regression"
      ],
      "metadata": {
        "id": "lzKoQTV70iki"
      }
    },
    {
      "cell_type": "code",
      "source": [
        "logmodel = LogisticRegression(max_iter=1000)\n",
        "logmodel.fit(X_train,y_train)\n",
        "print(\"Logistic Regression Model Score:\",logmodel.score(X_test, y_test))\n",
        "print(\"----------------------------\")"
      ],
      "metadata": {
        "colab": {
          "base_uri": "https://localhost:8080/"
        },
        "id": "jTO4au_Qy4nV",
        "outputId": "3e689940-484b-45ec-b400-675eb72a0e20"
      },
      "execution_count": null,
      "outputs": [
        {
          "output_type": "stream",
          "name": "stdout",
          "text": [
            "Logistic Regression Model Score: 0.7924662402274343\n",
            "----------------------------\n"
          ]
        }
      ]
    },
    {
      "cell_type": "markdown",
      "source": [
        "###Naive Bayes"
      ],
      "metadata": {
        "id": "Yo4jtpl60vOP"
      }
    },
    {
      "cell_type": "code",
      "source": [
        "nb=GaussianNB()\n",
        "nb.fit(X_train,y_train)\n",
        "print(\"Naive Bayes Score:\",nb.score(X_test,y_test))\n",
        "print(\"----------------------------\")"
      ],
      "metadata": {
        "colab": {
          "base_uri": "https://localhost:8080/"
        },
        "id": "kMNkbglWy8_F",
        "outputId": "5150a34d-7523-475e-ca64-ca3310074d07"
      },
      "execution_count": null,
      "outputs": [
        {
          "output_type": "stream",
          "name": "stdout",
          "text": [
            "Naive Bayes Score: 0.658137882018479\n",
            "----------------------------\n"
          ]
        }
      ]
    },
    {
      "cell_type": "markdown",
      "source": [
        "###K-NN Minkowski, K-NN Chebyshev, K-NN Manhattan\n",
        "\n",
        "#### All k values for 1 to 20 have been tested."
      ],
      "metadata": {
        "id": "kKYUrnEL5JKu"
      }
    },
    {
      "cell_type": "code",
      "source": [
        "\n",
        "x_axis = []\n",
        "y_axis = []\n",
        "for x in range(1,20):\n",
        "    knn = KNeighborsClassifier(n_neighbors = x, metric=\"minkowski\")\n",
        "    knn.fit(X_train,y_train)\n",
        "    x_axis.append(x)\n",
        "    y_axis.append(knn.score(X_test, y_test))\n",
        "\n",
        "max_value = max(y_axis)\n",
        "max_index = y_axis.index(max_value)\n",
        "print(\"Best k Value for the Max KNN Minkowski Metric :\",x_axis[max_index],\"and best score is\",max_value)\n",
        "\n",
        "\n",
        "x2_axis = []\n",
        "y2_axis = []\n",
        "for x in range(1,20):\n",
        "    knn = KNeighborsClassifier(n_neighbors = x, metric=\"chebyshev\")\n",
        "    knn.fit(X_train,y_train)\n",
        "    x2_axis.append(x)\n",
        "    y2_axis.append(knn.score(X_test, y_test))\n",
        "\n",
        "max_value = max(y2_axis)\n",
        "max_index = y2_axis.index(max_value)\n",
        "print(\"Best k Value for the Max KNN Chebyshev Metric:\",x2_axis[max_index],\"and best score is\",max_value)\n",
        "\n",
        "\n",
        "x3_axis = []\n",
        "y3_axis = []\n",
        "for x in range(1,20):\n",
        "    knn = KNeighborsClassifier(n_neighbors = x, metric=\"manhattan\")\n",
        "    knn.fit(X_train,y_train)\n",
        "    x3_axis.append(x)\n",
        "    y3_axis.append(knn.score(X_test, y_test))\n",
        "\n",
        "print(\"Best k Value for the Max KNN Manhattan Metric :\",x3_axis[max_index],\"and best score is\",max_value)\n"
      ],
      "metadata": {
        "colab": {
          "base_uri": "https://localhost:8080/"
        },
        "id": "qxcTAjpI5I1a",
        "outputId": "d9588d84-c6fd-4cd9-85a6-d3b9c4dcf9fa"
      },
      "execution_count": null,
      "outputs": [
        {
          "output_type": "stream",
          "name": "stdout",
          "text": [
            "Best k Value for the Max KNN Minkowski Metric : 12 and best score is 0.7860696517412935\n",
            "Best k Value for the Max KNN Chebyshev Metric: 13 and best score is 0.7874911158493249\n",
            "Best k Value for the Max KNN Manhattan Metric : 13 and best score is 0.7874911158493249\n"
          ]
        }
      ]
    }
  ]
}