{
  "nbformat": 4,
  "nbformat_minor": 0,
  "metadata": {
    "colab": {
      "name": "classifiers_and_cross_validation.ipynb",
      "provenance": [],
      "collapsed_sections": [],
      "include_colab_link": true
    },
    "kernelspec": {
      "name": "python3",
      "display_name": "Python 3"
    },
    "language_info": {
      "name": "python"
    }
  },
  "cells": [
    {
      "cell_type": "markdown",
      "metadata": {
        "id": "view-in-github",
        "colab_type": "text"
      },
      "source": [
        "<a href=\"https://colab.research.google.com/github/bademirci/machine_learning/blob/main/classifiers_and_cross_validation.ipynb\" target=\"_parent\"><img src=\"https://colab.research.google.com/assets/colab-badge.svg\" alt=\"Open In Colab\"/></a>"
      ]
    },
    {
      "cell_type": "markdown",
      "source": [
        "## Batuhan Demirci\n"
      ],
      "metadata": {
        "id": "yr0YaHM31V0B"
      }
    },
    {
      "cell_type": "markdown",
      "source": [
        "Use cross-validation to select the best method and the best set of parameters.\n",
        "Try Regularized Logistic Regression (both L1 and L2 penalties and different C\n",
        "values), KNN classifier (different numbers of neighbors you believe to be\n",
        "reasonable), random forests (different numbers of trees and different numbers of\n",
        "features to select at each split of your selection) and gradient boosting classifier\n",
        "(different numbers of trees and learning rates of your selection)."
      ],
      "metadata": {
        "id": "kxuMyu7JMQFK"
      }
    },
    {
      "cell_type": "code",
      "execution_count": null,
      "metadata": {
        "id": "7Qza-DOAk2GQ"
      },
      "outputs": [],
      "source": [
        "%matplotlib inline\n",
        "\n",
        "import pandas as pd\n",
        "import numpy as np\n",
        "import matplotlib.pyplot as plt\n",
        "\n",
        "from sklearn import metrics\n",
        "from sklearn.neighbors import KNeighborsClassifier\n",
        "from sklearn.model_selection import KFold\n",
        "from sklearn.model_selection import cross_val_score\n",
        "from sklearn.preprocessing import scale \n",
        "from sklearn.model_selection import train_test_split\n",
        "from sklearn.linear_model import LogisticRegression\n",
        "from sklearn.pipeline import make_pipeline\n",
        "from sklearn.pipeline import Pipeline\n",
        "from sklearn.linear_model import Ridge, Lasso\n",
        "from sklearn.metrics import accuracy_score\n",
        "from sklearn.ensemble import RandomForestClassifier\n",
        "from sklearn.ensemble import RandomForestRegressor\n",
        "from sklearn.model_selection import GridSearchCV\n",
        "from sklearn.ensemble import GradientBoostingClassifier\n",
        "from sklearn.model_selection import GridSearchCV"
      ]
    },
    {
      "cell_type": "code",
      "source": [
        "df = pd.read_csv('HW3DataSet.csv')\n",
        "df"
      ],
      "metadata": {
        "id": "Unra8YrUm55s"
      },
      "execution_count": null,
      "outputs": []
    },
    {
      "cell_type": "code",
      "source": [
        "x = df.drop(\"y\", axis = 1)\n",
        "y = df[\"y\"]"
      ],
      "metadata": {
        "id": "9GsiZvsf0eo_"
      },
      "execution_count": null,
      "outputs": []
    },
    {
      "cell_type": "markdown",
      "source": [
        "##(a) Split the data set into a training set and a test set (80% Training, 20% Test)"
      ],
      "metadata": {
        "id": "fcsOcJ6B0zUE"
      }
    },
    {
      "cell_type": "code",
      "source": [
        "from sklearn.model_selection import train_test_split\n",
        "\n",
        "x_train, x_test, y_train, y_test = train_test_split(x,y,test_size=0.2, random_state=1, stratify=y)\n"
      ],
      "metadata": {
        "id": "wogjG8vR0vlS"
      },
      "execution_count": null,
      "outputs": []
    },
    {
      "cell_type": "markdown",
      "source": [
        "##(b) Standardize your features."
      ],
      "metadata": {
        "id": "mDX_68ZM0-Yv"
      }
    },
    {
      "cell_type": "code",
      "source": [
        "from sklearn import preprocessing\n",
        "\n",
        "scaler = preprocessing.StandardScaler()\n",
        "scaler.fit(x_train)\n",
        "x_trainstandard = scaler.transform(x_train)\n",
        "x_teststandard = scaler.transform(x_test)"
      ],
      "metadata": {
        "id": "fOAH7mS61CWy"
      },
      "execution_count": null,
      "outputs": []
    },
    {
      "cell_type": "markdown",
      "source": [
        "##(b) Use cross-validation to select the best method and the best set of parameters."
      ],
      "metadata": {
        "id": "GCCCkM8Y5hCN"
      }
    },
    {
      "cell_type": "markdown",
      "source": [
        "###Regularized Logistic Regression"
      ],
      "metadata": {
        "id": "d9B-KR5E5HMH"
      }
    },
    {
      "cell_type": "code",
      "source": [
        "#Finding the best set of parameters.\n",
        "\n",
        "regressor=LogisticRegression(solver='liblinear')\n",
        "C_param_range = [0.001,0.01,0.1,1,10,100,1000,10000]\n",
        "penalties=['l1','l2']\n",
        "# create grid\n",
        "params = {\n",
        " 'Regressor__C': C_param_range,\n",
        " 'Regressor__penalty': penalties,\n",
        " }\n",
        "pipe = Pipeline([('scaler',preprocessing.StandardScaler()),('Regressor', regressor)])\n",
        "\n",
        "clf_grid = GridSearchCV(estimator = pipe, param_grid = params, \n",
        "                                cv = 5, verbose=2, scoring='accuracy',n_jobs = -1)\n",
        "# Fit the model\n",
        "clf_grid.fit(x_trainstandard, y_train)\n",
        "# print results\n",
        "print(clf_grid.best_params_)"
      ],
      "metadata": {
        "colab": {
          "base_uri": "https://localhost:8080/"
        },
        "id": "OcfFNKgf1sFp",
        "outputId": "ba51ff53-cd12-4f86-bac6-c15fdefcd525"
      },
      "execution_count": null,
      "outputs": [
        {
          "output_type": "stream",
          "name": "stdout",
          "text": [
            "Fitting 5 folds for each of 16 candidates, totalling 80 fits\n",
            "{'Regressor__C': 1, 'Regressor__penalty': 'l1'}\n"
          ]
        }
      ]
    },
    {
      "cell_type": "code",
      "source": [
        "#Finding cross v. scores.\n",
        "\n",
        "logreg = LogisticRegression(C=1,penalty='l1',max_iter=1000,solver='liblinear')\n",
        "pipe = make_pipeline(preprocessing.StandardScaler(), logreg)\n",
        "scoreCV = cross_val_score(pipe, x_train, y_train, scoring='accuracy',\n",
        "                             cv=KFold(n_splits=10, shuffle=True,\n",
        "                                            random_state=1))\n",
        "scoreCV\n",
        "np.mean(scoreCV)"
      ],
      "metadata": {
        "colab": {
          "base_uri": "https://localhost:8080/"
        },
        "id": "S49DJocAZ9zO",
        "outputId": "b5628a0d-a8d4-46e7-ff0b-4a6c0ff23bc2"
      },
      "execution_count": null,
      "outputs": [
        {
          "output_type": "execute_result",
          "data": {
            "text/plain": [
              "0.8341666666666667"
            ]
          },
          "metadata": {},
          "execution_count": 10
        }
      ]
    },
    {
      "cell_type": "markdown",
      "source": [
        "### KNN Classifier"
      ],
      "metadata": {
        "id": "extNxczQ5kZx"
      }
    },
    {
      "cell_type": "code",
      "source": [
        "from sklearn.neighbors import KNeighborsClassifier\n",
        "from sklearn.model_selection import KFold\n",
        "from sklearn.model_selection import cross_val_score"
      ],
      "metadata": {
        "id": "36nTw4a06CT3"
      },
      "execution_count": null,
      "outputs": []
    },
    {
      "cell_type": "code",
      "source": [
        "cv = KFold(n_splits=10, random_state=1, shuffle=True)\n",
        "\n",
        "CVAccuracy=[]\n",
        "for j in range(1,26):\n",
        "    knn = KNeighborsClassifier(n_neighbors = j)\n",
        "    scores = cross_val_score(knn, x_trainstandard, y_train, cv=10, scoring='accuracy')\n",
        "    CVAccuracy.append([scores.mean(),j])\n",
        "df = pd.DataFrame (CVAccuracy,columns=['Validation Accuracy','NeighbourSize'])\n",
        "\n",
        "print(df.sort_values(by=\"Validation Accuracy\",ascending=False))\n",
        "\n",
        "max_index = df[\"Validation Accuracy\"].idxmax()\n",
        "print(\"-------------------------------------------\")\n",
        "print(\"Best neighboursize is\",df.loc[max_index,'NeighbourSize'],\"with\",df.loc[max_index,'Validation Accuracy'],\"score.\")"
      ],
      "metadata": {
        "colab": {
          "base_uri": "https://localhost:8080/"
        },
        "id": "KaEPn5bs5nNl",
        "outputId": "dce8f113-49f6-48f2-81ff-4bc0b71efb9f"
      },
      "execution_count": null,
      "outputs": [
        {
          "output_type": "stream",
          "name": "stdout",
          "text": [
            "    Validation Accuracy  NeighbourSize\n",
            "10             0.842833             11\n",
            "6              0.838833              7\n",
            "8              0.838667              9\n",
            "7              0.834833              8\n",
            "9              0.834500             10\n",
            "12             0.834333             13\n",
            "5              0.826500              6\n",
            "11             0.826333             12\n",
            "13             0.826167             14\n",
            "23             0.822000             24\n",
            "20             0.822000             21\n",
            "18             0.822000             19\n",
            "14             0.822000             15\n",
            "15             0.818000             16\n",
            "19             0.818000             20\n",
            "24             0.818000             25\n",
            "2              0.818000              3\n",
            "21             0.817667             22\n",
            "16             0.814000             17\n",
            "17             0.814000             18\n",
            "22             0.813833             23\n",
            "4              0.805833              5\n",
            "3              0.805667              4\n",
            "1              0.801500              2\n",
            "0              0.764500              1\n",
            "-------------------------------------------\n",
            "Best neighboursize is 11 with 0.8428333333333334 score.\n"
          ]
        }
      ]
    },
    {
      "cell_type": "markdown",
      "source": [
        "###Random Forests"
      ],
      "metadata": {
        "id": "L8VjEL8wDCpm"
      }
    },
    {
      "cell_type": "code",
      "source": [
        "#Finding the best set of parameters.\n",
        "\n",
        "clf=RandomForestClassifier(random_state=0)\n",
        "\n",
        "n_estimators = [100,200,300,400,500]\n",
        "\n",
        "max_features = [3,4,5,6,7,8,9,10,11,12]\n",
        "params = {\n",
        " 'Classifier__n_estimators': n_estimators,\n",
        " 'Classifier__max_features': max_features,\n",
        " }\n",
        "#Pipeline approach.\n",
        "pipe = Pipeline([('scaler',preprocessing.StandardScaler()),('Classifier', clf)])\n",
        "\n",
        "cv = KFold(n_splits=5, random_state=1, shuffle=True)\n",
        "\n",
        "clf_grid = GridSearchCV(estimator = pipe, param_grid = params, \n",
        "                                cv = 5, verbose=2, scoring='neg_mean_squared_error',n_jobs = -1)\n",
        "\n",
        "clf_grid.fit(x_train, y_train)\n",
        "\n",
        "print(clf_grid.best_params_)"
      ],
      "metadata": {
        "colab": {
          "base_uri": "https://localhost:8080/"
        },
        "id": "KkqnI8LcOC-u",
        "outputId": "db6ec6b2-6545-4b45-e658-314ddbc1d4fd"
      },
      "execution_count": null,
      "outputs": [
        {
          "output_type": "stream",
          "name": "stdout",
          "text": [
            "Fitting 5 folds for each of 50 candidates, totalling 250 fits\n",
            "{'Classifier__max_features': 3, 'Classifier__n_estimators': 500}\n"
          ]
        }
      ]
    },
    {
      "cell_type": "code",
      "source": [
        "#Finding cv scores.\n",
        "\n",
        "x_standard = scaler.transform(x)\n",
        "\n",
        "print(clf_grid.best_params_)\n",
        "cv = KFold(n_splits=5, random_state=1, shuffle=True)\n",
        "CVErrors=[]\n",
        "for train_index, validation_index in cv.split(x_trainstandard):\n",
        "    X_train, X_val = x_standard[train_index], x_standard[validation_index], \n",
        "    Y_train, y_val = y.iloc[train_index], y.iloc[validation_index]\n",
        "    clf=RandomForestClassifier(random_state=0,n_estimators=500,max_features=3)\n",
        "    clf.fit(X_train,Y_train)\n",
        "    y_pred=clf.predict(X_val)\n",
        "    CVErrors.append(accuracy_score(y_val, y_pred))\n",
        "print(np.mean(CVErrors), \" is the Valudation score.\")"
      ],
      "metadata": {
        "colab": {
          "base_uri": "https://localhost:8080/"
        },
        "id": "2EoqG2DjHQL4",
        "outputId": "7bf9541b-3794-4efc-deca-d5fc8861dcd3"
      },
      "execution_count": null,
      "outputs": [
        {
          "output_type": "stream",
          "name": "stdout",
          "text": [
            "{'Classifier__max_features': 3, 'Classifier__n_estimators': 500}\n",
            "0.8353551912568307  is the Valudation score.\n"
          ]
        }
      ]
    },
    {
      "cell_type": "markdown",
      "source": [
        "### Gradient boosting classifier"
      ],
      "metadata": {
        "id": "iqRtY4kc1U2n"
      }
    },
    {
      "cell_type": "code",
      "source": [
        "#Finding best parameters.\n",
        "\n",
        "model = GradientBoostingClassifier(max_depth=1)\n",
        "n_estimators = [100,500,1000,5000]\n",
        "learning_rate = [1,0.1,0.01,0.001]\n",
        "params = {'Classifier__n_estimators': n_estimators,\n",
        "            'Classifier__learning_rate': learning_rate,\n",
        "         }\n",
        "\n",
        "#Pipeline approach.\n",
        "pipe = Pipeline([('scaler',preprocessing.StandardScaler()),('Classifier', model)])\n",
        "\n",
        "boost_grid = GridSearchCV(estimator = pipe, param_grid = params, \n",
        "                            cv = 5, verbose=2, scoring='accuracy',n_jobs = -1)\n",
        "boost_grid.fit(x_train, y_train)\n",
        "print(boost_grid.best_params_)"
      ],
      "metadata": {
        "colab": {
          "base_uri": "https://localhost:8080/"
        },
        "id": "_8FEQrUjPZII",
        "outputId": "3d38581f-b77a-4b94-a463-0f4f7dae6a7c"
      },
      "execution_count": null,
      "outputs": [
        {
          "output_type": "stream",
          "name": "stdout",
          "text": [
            "Fitting 5 folds for each of 16 candidates, totalling 80 fits\n",
            "{'Classifier__learning_rate': 0.01, 'Classifier__n_estimators': 500}\n"
          ]
        }
      ]
    },
    {
      "cell_type": "code",
      "source": [
        "#Finding cv scores.\n",
        "\n",
        "cv = KFold(n_splits=5, random_state=1, shuffle=True)\n",
        "CVErrors=[]\n",
        "for train_index, validation_index in cv.split(x_standard):\n",
        "    X_train, X_val = x_standard[train_index], x_standard[validation_index], \n",
        "    Y_train, y_val = y.iloc[train_index], y.iloc[validation_index]\n",
        "    model = GradientBoostingClassifier(max_depth=1, n_estimators=500, learning_rate=0.01)\n",
        "    model.fit(X_train, Y_train)\n",
        "    y_pred = model.predict(X_val)\n",
        "    CV = accuracy_score(y_pred,y_val)\n",
        "    CVErrors.append(CV)\n",
        "print(\"Gradient Boosting CV Score: \", np.mean(CVErrors))"
      ],
      "metadata": {
        "colab": {
          "base_uri": "https://localhost:8080/"
        },
        "id": "nntP3OaKPZp7",
        "outputId": "cf085ce1-76a4-47a8-c3f1-5a7658004ce7"
      },
      "execution_count": null,
      "outputs": [
        {
          "output_type": "stream",
          "name": "stdout",
          "text": [
            "Gradient Boosting CV Score:  0.8453005464480874\n"
          ]
        }
      ]
    },
    {
      "cell_type": "markdown",
      "source": [
        "## (c) and (d) Once you decide on the final method and the set of best parameters, refit your model on the standardized training set and evaluate the performance (accuracy) on the standardized test set. Provide confusion matrix"
      ],
      "metadata": {
        "id": "JcLSVtLbimgH"
      }
    },
    {
      "cell_type": "code",
      "source": [
        "#I decided final method as a Gradient Boosting with {'learning_rate': 0.01, 'n_estimators': 500}.\n",
        "\n",
        "final_method = GradientBoostingClassifier(max_depth=1, n_estimators=500, learning_rate=0.01)\n",
        "final_method.fit(x_trainstandard,y_train)\n",
        "y_pred = final_method.predict(x_teststandard)"
      ],
      "metadata": {
        "id": "dM2lntyfllxR"
      },
      "execution_count": null,
      "outputs": []
    },
    {
      "cell_type": "code",
      "source": [
        "cnf_matrix = metrics.confusion_matrix(y_test, y_pred)\n",
        "print(\"Confusion Matrix: \")\n",
        "print(cnf_matrix)\n",
        "\n",
        "print('Accuracy:', accuracy_score(y_test, y_pred))"
      ],
      "metadata": {
        "colab": {
          "base_uri": "https://localhost:8080/"
        },
        "id": "lLH2E3-PnKzc",
        "outputId": "0f16caa4-5f58-4bcb-d94d-b435bad99aed"
      },
      "execution_count": null,
      "outputs": [
        {
          "output_type": "stream",
          "name": "stdout",
          "text": [
            "Confusion Matrix: \n",
            "[[24  4]\n",
            " [ 6 27]]\n",
            "Accuracy: 0.8360655737704918\n"
          ]
        }
      ]
    },
    {
      "cell_type": "code",
      "source": [
        "y_pred"
      ],
      "metadata": {
        "colab": {
          "base_uri": "https://localhost:8080/"
        },
        "id": "KF_ip5zGoRYw",
        "outputId": "820e03ca-9ad1-4d06-e051-73afd1d71537"
      },
      "execution_count": null,
      "outputs": [
        {
          "output_type": "execute_result",
          "data": {
            "text/plain": [
              "array([1, 0, 1, 1, 1, 1, 1, 1, 0, 0, 0, 1, 0, 1, 0, 0, 1, 1, 1, 0, 1, 0,\n",
              "       0, 1, 0, 1, 0, 1, 0, 0, 1, 0, 1, 0, 1, 0, 0, 0, 1, 1, 1, 0, 1, 1,\n",
              "       1, 0, 1, 0, 0, 1, 1, 1, 0, 0, 0, 1, 0, 0, 0, 1, 0])"
            ]
          },
          "metadata": {},
          "execution_count": 60
        }
      ]
    },
    {
      "cell_type": "code",
      "source": [
        ""
      ],
      "metadata": {
        "id": "lyXaNn8tp-RU"
      },
      "execution_count": null,
      "outputs": []
    }
  ]
}